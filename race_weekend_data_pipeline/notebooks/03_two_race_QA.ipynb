{
 "cells": [
  {
   "cell_type": "markdown",
   "id": "b0995fe2",
   "metadata": {},
   "source": [
    "# Step 0. Setup and Paths initialized."
   ]
  },
  {
   "cell_type": "code",
   "execution_count": 2,
   "id": "9f39ac1b",
   "metadata": {},
   "outputs": [
    {
     "name": "stdout",
     "output_type": "stream",
     "text": [
      "Project Directory: /Users/pratyushagarwal/Desktop/PROJECTS/F1_Projects/race_weekend_data_pipeline\n",
      "Processed Data Directory: /Users/pratyushagarwal/Desktop/PROJECTS/F1_Projects/race_weekend_data_pipeline/data/processed\n"
     ]
    }
   ],
   "source": [
    "# Two Race QA - Comparing performances across races.\n",
    "# Goal - Loading 2 sessions and answering practical business style questions.\n",
    "# Skills - Data Loading, Filtering, Joining, Grouping, Aggregation, Window Ops, Merge_asof, Vectorization, Defensiveness. \n",
    "\n",
    "from pathlib import Path\n",
    "import pandas as pd\n",
    "import numpy as np\n",
    "import json, glob\n",
    "\n",
    "PROJECT_DIR = Path.cwd().parents[0]\n",
    "PROCESSED_DATA_DIR = PROJECT_DIR / \"data\" / \"processed\"\n",
    "\n",
    "print(f\"Project Directory: {PROJECT_DIR}\")\n",
    "print(f\"Processed Data Directory: {PROCESSED_DATA_DIR}\")"
   ]
  },
  {
   "cell_type": "markdown",
   "id": "5ea867f1",
   "metadata": {},
   "source": [
    "# Step 1. Picking 2 race sessions."
   ]
  },
  {
   "cell_type": "code",
   "execution_count": 3,
   "id": "16a47011",
   "metadata": {},
   "outputs": [
    {
     "data": {
      "text/plain": [
       "(['2024_01_R',\n",
       "  '2024_02_R',\n",
       "  '2024_03_R',\n",
       "  '2024_04_R',\n",
       "  '2024_05_R',\n",
       "  '2024_06_R',\n",
       "  '2024_07_R',\n",
       "  '2024_08_R',\n",
       "  '2024_09_R',\n",
       "  '2024_10_R'],\n",
       " 24)"
      ]
     },
     "execution_count": 3,
     "metadata": {},
     "output_type": "execute_result"
    }
   ],
   "source": [
    "# We will pick 2 race sessions (endswith _R). Can be hardcoded or picking the first 2 automatically.\n",
    "\n",
    "all_sessions = sorted(Path(p).name for p in glob.glob(str(PROCESSED_DATA_DIR / \"*\")) if Path(p).is_dir())\n",
    "race_sessions = [r for r in all_sessions if r.endswith('_R')]\n",
    "\n",
    "race_sessions[:10], len(race_sessions)"
   ]
  },
  {
   "cell_type": "code",
   "execution_count": 4,
   "id": "88c57b39",
   "metadata": {},
   "outputs": [
    {
     "data": {
      "text/plain": [
       "('2024_06_R', '2024_16_R')"
      ]
     },
     "execution_count": 4,
     "metadata": {},
     "output_type": "execute_result"
    }
   ],
   "source": [
    "# Choosing 2 races to compare\n",
    "s1 = race_sessions[5] if len(race_sessions) > 5 else (race_sessions[0] if len(race_sessions) > 0 else None)\n",
    "s2 = race_sessions[15] if len(race_sessions) > 15 else (race_sessions[1] if len(race_sessions) > 1 else None)\n",
    "\n",
    "s1, s2"
   ]
  },
  {
   "cell_type": "markdown",
   "id": "7454d79c",
   "metadata": {},
   "source": [
    "# Step 2. Loading processed tables for both sessions."
   ]
  },
  {
   "cell_type": "code",
   "execution_count": 5,
   "id": "06488d4d",
   "metadata": {},
   "outputs": [],
   "source": [
    "# Loading fact tables for s1 and s2 - suffix columns to keep them distinct when necessary.\n",
    "\n",
    "def load_session_tables(session_key: str):\n",
    "    d = PROCESSED_DATA_DIR / session_key\n",
    "    paths = {p.stem: p for p in d.glob(\"*.parquet\")}\n",
    "    fl = pd.read_parquet(paths['fact_laps']) if 'fact_laps' in paths else pd.DataFrame()\n",
    "    fp = pd.read_parquet(paths['fact_pitstops']) if 'fact_pitstops' in paths else pd.DataFrame()\n",
    "    fw = pd.read_parquet(paths['fact_weather']) if 'fact_weather' in paths else pd.DataFrame()\n",
    "    dd = pd.read_parquet(paths['dim_drivers']) if 'dim_drivers' in paths else pd.DataFrame()\n",
    "\n",
    "    return fl, fp, fw, dd"
   ]
  },
  {
   "cell_type": "code",
   "execution_count": 6,
   "id": "604150b5",
   "metadata": {},
   "outputs": [
    {
     "data": {
      "text/plain": [
       "(((1111, 16), (0, 5), (150, 10), (20, 6)),\n",
       " ((1008, 16), (0, 5), (133, 10), (20, 6)))"
      ]
     },
     "execution_count": 6,
     "metadata": {},
     "output_type": "execute_result"
    }
   ],
   "source": [
    "fl1, fp1, fw1, dd1 = load_session_tables(s1)\n",
    "fl2, fp2, fw2, dd2 = load_session_tables(s2)\n",
    "\n",
    "(fl1.shape, fp1.shape, fw1.shape, dd1.shape), (fl2.shape, fp2.shape, fw2.shape, dd2.shape)"
   ]
  },
  {
   "cell_type": "markdown",
   "id": "9e6fdd16",
   "metadata": {},
   "source": [
    "# Step 3. Normalizing driver keys and enriching with names."
   ]
  },
  {
   "cell_type": "code",
   "execution_count": 9,
   "id": "7820a098",
   "metadata": {},
   "outputs": [],
   "source": [
    "# Normalizing driver_number to string and attaching names / teams for readability.\n",
    "\n",
    "def enrich_laps(fl: pd.DataFrame, dd: pd.DataFrame) -> pd.DataFrame:\n",
    "    if fl.empty:\n",
    "        return fl\n",
    "    \n",
    "    fl = fl.copy()\n",
    "    fl['driver_number'] = fl['driver_number'].astype(str)\n",
    "    if not dd.empty:\n",
    "        dd = dd.copy()\n",
    "        dd['driver_number'] = dd['driver_number'].astype(str)\n",
    "        fl = fl.merge(\n",
    "            dd[['session_key', 'driver_number', 'full_name', 'team']],\n",
    "            on=['session_key', 'driver_number'],\n",
    "            how='left'\n",
    "        )\n",
    "    \n",
    "    return fl"
   ]
  },
  {
   "cell_type": "code",
   "execution_count": 11,
   "id": "7a084ff0",
   "metadata": {},
   "outputs": [
    {
     "data": {
      "text/html": [
       "<style type=\"text/css\">\n",
       "</style>\n",
       "<table id=\"T_61dfd\">\n",
       "  <caption>Enriched Laps - Session: 2024_06_R</caption>\n",
       "  <thead>\n",
       "    <tr>\n",
       "      <th class=\"blank level0\" >&nbsp;</th>\n",
       "      <th id=\"T_61dfd_level0_col0\" class=\"col_heading level0 col0\" >driver_number</th>\n",
       "      <th id=\"T_61dfd_level0_col1\" class=\"col_heading level0 col1\" >lap_number</th>\n",
       "      <th id=\"T_61dfd_level0_col2\" class=\"col_heading level0 col2\" >tyre_compound</th>\n",
       "      <th id=\"T_61dfd_level0_col3\" class=\"col_heading level0 col3\" >stint</th>\n",
       "      <th id=\"T_61dfd_level0_col4\" class=\"col_heading level0 col4\" >track_status</th>\n",
       "      <th id=\"T_61dfd_level0_col5\" class=\"col_heading level0 col5\" >tyre_life</th>\n",
       "      <th id=\"T_61dfd_level0_col6\" class=\"col_heading level0 col6\" >is_accurate</th>\n",
       "      <th id=\"T_61dfd_level0_col7\" class=\"col_heading level0 col7\" >speed_trap_kph</th>\n",
       "      <th id=\"T_61dfd_level0_col8\" class=\"col_heading level0 col8\" >lap_time_ms</th>\n",
       "      <th id=\"T_61dfd_level0_col9\" class=\"col_heading level0 col9\" >sector1_time_ms</th>\n",
       "      <th id=\"T_61dfd_level0_col10\" class=\"col_heading level0 col10\" >sector2_time_ms</th>\n",
       "      <th id=\"T_61dfd_level0_col11\" class=\"col_heading level0 col11\" >sector3_time_ms</th>\n",
       "      <th id=\"T_61dfd_level0_col12\" class=\"col_heading level0 col12\" >is_inlap</th>\n",
       "      <th id=\"T_61dfd_level0_col13\" class=\"col_heading level0 col13\" >is_outlap</th>\n",
       "      <th id=\"T_61dfd_level0_col14\" class=\"col_heading level0 col14\" >is_pit</th>\n",
       "      <th id=\"T_61dfd_level0_col15\" class=\"col_heading level0 col15\" >session_key</th>\n",
       "      <th id=\"T_61dfd_level0_col16\" class=\"col_heading level0 col16\" >full_name</th>\n",
       "      <th id=\"T_61dfd_level0_col17\" class=\"col_heading level0 col17\" >team</th>\n",
       "    </tr>\n",
       "  </thead>\n",
       "  <tbody>\n",
       "    <tr>\n",
       "      <th id=\"T_61dfd_level0_row0\" class=\"row_heading level0 row0\" >0</th>\n",
       "      <td id=\"T_61dfd_row0_col0\" class=\"data row0 col0\" >1</td>\n",
       "      <td id=\"T_61dfd_row0_col1\" class=\"data row0 col1\" >1.000000</td>\n",
       "      <td id=\"T_61dfd_row0_col2\" class=\"data row0 col2\" >MEDIUM</td>\n",
       "      <td id=\"T_61dfd_row0_col3\" class=\"data row0 col3\" >1</td>\n",
       "      <td id=\"T_61dfd_row0_col4\" class=\"data row0 col4\" >1</td>\n",
       "      <td id=\"T_61dfd_row0_col5\" class=\"data row0 col5\" >1.000000</td>\n",
       "      <td id=\"T_61dfd_row0_col6\" class=\"data row0 col6\" >False</td>\n",
       "      <td id=\"T_61dfd_row0_col7\" class=\"data row0 col7\" >305.000000</td>\n",
       "      <td id=\"T_61dfd_row0_col8\" class=\"data row0 col8\" >94338.000000</td>\n",
       "      <td id=\"T_61dfd_row0_col9\" class=\"data row0 col9\" >nan</td>\n",
       "      <td id=\"T_61dfd_row0_col10\" class=\"data row0 col10\" >34990.000000</td>\n",
       "      <td id=\"T_61dfd_row0_col11\" class=\"data row0 col11\" >26211.000000</td>\n",
       "      <td id=\"T_61dfd_row0_col12\" class=\"data row0 col12\" >False</td>\n",
       "      <td id=\"T_61dfd_row0_col13\" class=\"data row0 col13\" >False</td>\n",
       "      <td id=\"T_61dfd_row0_col14\" class=\"data row0 col14\" >False</td>\n",
       "      <td id=\"T_61dfd_row0_col15\" class=\"data row0 col15\" >2024_06_R</td>\n",
       "      <td id=\"T_61dfd_row0_col16\" class=\"data row0 col16\" >Max Verstappen</td>\n",
       "      <td id=\"T_61dfd_row0_col17\" class=\"data row0 col17\" >Red Bull Racing</td>\n",
       "    </tr>\n",
       "    <tr>\n",
       "      <th id=\"T_61dfd_level0_row1\" class=\"row_heading level0 row1\" >1</th>\n",
       "      <td id=\"T_61dfd_row1_col0\" class=\"data row1 col0\" >1</td>\n",
       "      <td id=\"T_61dfd_row1_col1\" class=\"data row1 col1\" >2.000000</td>\n",
       "      <td id=\"T_61dfd_row1_col2\" class=\"data row1 col2\" >MEDIUM</td>\n",
       "      <td id=\"T_61dfd_row1_col3\" class=\"data row1 col3\" >1</td>\n",
       "      <td id=\"T_61dfd_row1_col4\" class=\"data row1 col4\" >1</td>\n",
       "      <td id=\"T_61dfd_row1_col5\" class=\"data row1 col5\" >2.000000</td>\n",
       "      <td id=\"T_61dfd_row1_col6\" class=\"data row1 col6\" >True</td>\n",
       "      <td id=\"T_61dfd_row1_col7\" class=\"data row1 col7\" >303.000000</td>\n",
       "      <td id=\"T_61dfd_row1_col8\" class=\"data row1 col8\" >93093.000000</td>\n",
       "      <td id=\"T_61dfd_row1_col9\" class=\"data row1 col9\" >31455.000000</td>\n",
       "      <td id=\"T_61dfd_row1_col10\" class=\"data row1 col10\" >35489.000000</td>\n",
       "      <td id=\"T_61dfd_row1_col11\" class=\"data row1 col11\" >26149.000000</td>\n",
       "      <td id=\"T_61dfd_row1_col12\" class=\"data row1 col12\" >False</td>\n",
       "      <td id=\"T_61dfd_row1_col13\" class=\"data row1 col13\" >False</td>\n",
       "      <td id=\"T_61dfd_row1_col14\" class=\"data row1 col14\" >False</td>\n",
       "      <td id=\"T_61dfd_row1_col15\" class=\"data row1 col15\" >2024_06_R</td>\n",
       "      <td id=\"T_61dfd_row1_col16\" class=\"data row1 col16\" >Max Verstappen</td>\n",
       "      <td id=\"T_61dfd_row1_col17\" class=\"data row1 col17\" >Red Bull Racing</td>\n",
       "    </tr>\n",
       "  </tbody>\n",
       "</table>\n"
      ],
      "text/plain": [
       "<pandas.io.formats.style.Styler at 0x11211fd10>"
      ]
     },
     "metadata": {},
     "output_type": "display_data"
    },
    {
     "data": {
      "text/html": [
       "<style type=\"text/css\">\n",
       "</style>\n",
       "<table id=\"T_2bb73\">\n",
       "  <caption>Enriched Laps - Session: 2024_16_R</caption>\n",
       "  <thead>\n",
       "    <tr>\n",
       "      <th class=\"blank level0\" >&nbsp;</th>\n",
       "      <th id=\"T_2bb73_level0_col0\" class=\"col_heading level0 col0\" >driver_number</th>\n",
       "      <th id=\"T_2bb73_level0_col1\" class=\"col_heading level0 col1\" >lap_number</th>\n",
       "      <th id=\"T_2bb73_level0_col2\" class=\"col_heading level0 col2\" >tyre_compound</th>\n",
       "      <th id=\"T_2bb73_level0_col3\" class=\"col_heading level0 col3\" >stint</th>\n",
       "      <th id=\"T_2bb73_level0_col4\" class=\"col_heading level0 col4\" >track_status</th>\n",
       "      <th id=\"T_2bb73_level0_col5\" class=\"col_heading level0 col5\" >tyre_life</th>\n",
       "      <th id=\"T_2bb73_level0_col6\" class=\"col_heading level0 col6\" >is_accurate</th>\n",
       "      <th id=\"T_2bb73_level0_col7\" class=\"col_heading level0 col7\" >speed_trap_kph</th>\n",
       "      <th id=\"T_2bb73_level0_col8\" class=\"col_heading level0 col8\" >lap_time_ms</th>\n",
       "      <th id=\"T_2bb73_level0_col9\" class=\"col_heading level0 col9\" >sector1_time_ms</th>\n",
       "      <th id=\"T_2bb73_level0_col10\" class=\"col_heading level0 col10\" >sector2_time_ms</th>\n",
       "      <th id=\"T_2bb73_level0_col11\" class=\"col_heading level0 col11\" >sector3_time_ms</th>\n",
       "      <th id=\"T_2bb73_level0_col12\" class=\"col_heading level0 col12\" >is_inlap</th>\n",
       "      <th id=\"T_2bb73_level0_col13\" class=\"col_heading level0 col13\" >is_outlap</th>\n",
       "      <th id=\"T_2bb73_level0_col14\" class=\"col_heading level0 col14\" >is_pit</th>\n",
       "      <th id=\"T_2bb73_level0_col15\" class=\"col_heading level0 col15\" >session_key</th>\n",
       "      <th id=\"T_2bb73_level0_col16\" class=\"col_heading level0 col16\" >full_name</th>\n",
       "      <th id=\"T_2bb73_level0_col17\" class=\"col_heading level0 col17\" >team</th>\n",
       "    </tr>\n",
       "  </thead>\n",
       "  <tbody>\n",
       "    <tr>\n",
       "      <th id=\"T_2bb73_level0_row0\" class=\"row_heading level0 row0\" >0</th>\n",
       "      <td id=\"T_2bb73_row0_col0\" class=\"data row0 col0\" >1</td>\n",
       "      <td id=\"T_2bb73_row0_col1\" class=\"data row0 col1\" >1.000000</td>\n",
       "      <td id=\"T_2bb73_row0_col2\" class=\"data row0 col2\" >HARD</td>\n",
       "      <td id=\"T_2bb73_row0_col3\" class=\"data row0 col3\" >1</td>\n",
       "      <td id=\"T_2bb73_row0_col4\" class=\"data row0 col4\" >1</td>\n",
       "      <td id=\"T_2bb73_row0_col5\" class=\"data row0 col5\" >1.000000</td>\n",
       "      <td id=\"T_2bb73_row0_col6\" class=\"data row0 col6\" >False</td>\n",
       "      <td id=\"T_2bb73_row0_col7\" class=\"data row0 col7\" >298.000000</td>\n",
       "      <td id=\"T_2bb73_row0_col8\" class=\"data row0 col8\" >90354.000000</td>\n",
       "      <td id=\"T_2bb73_row0_col9\" class=\"data row0 col9\" >nan</td>\n",
       "      <td id=\"T_2bb73_row0_col10\" class=\"data row0 col10\" >31144.000000</td>\n",
       "      <td id=\"T_2bb73_row0_col11\" class=\"data row0 col11\" >28856.000000</td>\n",
       "      <td id=\"T_2bb73_row0_col12\" class=\"data row0 col12\" >False</td>\n",
       "      <td id=\"T_2bb73_row0_col13\" class=\"data row0 col13\" >False</td>\n",
       "      <td id=\"T_2bb73_row0_col14\" class=\"data row0 col14\" >False</td>\n",
       "      <td id=\"T_2bb73_row0_col15\" class=\"data row0 col15\" >2024_16_R</td>\n",
       "      <td id=\"T_2bb73_row0_col16\" class=\"data row0 col16\" >Max Verstappen</td>\n",
       "      <td id=\"T_2bb73_row0_col17\" class=\"data row0 col17\" >Red Bull Racing</td>\n",
       "    </tr>\n",
       "    <tr>\n",
       "      <th id=\"T_2bb73_level0_row1\" class=\"row_heading level0 row1\" >1</th>\n",
       "      <td id=\"T_2bb73_row1_col0\" class=\"data row1 col0\" >1</td>\n",
       "      <td id=\"T_2bb73_row1_col1\" class=\"data row1 col1\" >2.000000</td>\n",
       "      <td id=\"T_2bb73_row1_col2\" class=\"data row1 col2\" >HARD</td>\n",
       "      <td id=\"T_2bb73_row1_col3\" class=\"data row1 col3\" >1</td>\n",
       "      <td id=\"T_2bb73_row1_col4\" class=\"data row1 col4\" >1</td>\n",
       "      <td id=\"T_2bb73_row1_col5\" class=\"data row1 col5\" >2.000000</td>\n",
       "      <td id=\"T_2bb73_row1_col6\" class=\"data row1 col6\" >True</td>\n",
       "      <td id=\"T_2bb73_row1_col7\" class=\"data row1 col7\" >316.000000</td>\n",
       "      <td id=\"T_2bb73_row1_col8\" class=\"data row1 col8\" >86170.000000</td>\n",
       "      <td id=\"T_2bb73_row1_col9\" class=\"data row1 col9\" >28048.000000</td>\n",
       "      <td id=\"T_2bb73_row1_col10\" class=\"data row1 col10\" >29474.000000</td>\n",
       "      <td id=\"T_2bb73_row1_col11\" class=\"data row1 col11\" >28648.000000</td>\n",
       "      <td id=\"T_2bb73_row1_col12\" class=\"data row1 col12\" >False</td>\n",
       "      <td id=\"T_2bb73_row1_col13\" class=\"data row1 col13\" >False</td>\n",
       "      <td id=\"T_2bb73_row1_col14\" class=\"data row1 col14\" >False</td>\n",
       "      <td id=\"T_2bb73_row1_col15\" class=\"data row1 col15\" >2024_16_R</td>\n",
       "      <td id=\"T_2bb73_row1_col16\" class=\"data row1 col16\" >Max Verstappen</td>\n",
       "      <td id=\"T_2bb73_row1_col17\" class=\"data row1 col17\" >Red Bull Racing</td>\n",
       "    </tr>\n",
       "  </tbody>\n",
       "</table>\n"
      ],
      "text/plain": [
       "<pandas.io.formats.style.Styler at 0x10b1f6a10>"
      ]
     },
     "metadata": {},
     "output_type": "display_data"
    }
   ],
   "source": [
    "fl1e = enrich_laps(fl1, dd1)\n",
    "fl2e = enrich_laps(fl2, dd2)\n",
    "\n",
    "display(fl1e.drop_duplicates().head(2).style.set_caption(f\"Enriched Laps - Session: {s1}\"))\n",
    "display(fl2e.drop_duplicates().head(2).style.set_caption(f\"Enriched Laps - Session: {s2}\"))"
   ]
  },
  {
   "cell_type": "markdown",
   "id": "2bb61c61",
   "metadata": {},
   "source": [
    "# Q1) Which drivers improved or regressed average race pace from Race A to Race B."
   ]
  },
  {
   "cell_type": "code",
   "execution_count": null,
   "id": "663e0946",
   "metadata": {},
   "outputs": [],
   "source": [
    "# Question - Who got faster? Comparing average lap_time_ms across 2 races.\n",
    "\n",
    "def pace_summary(fl: pd.DataFrame) -> pd.DataFrame:\n",
    "    "
   ]
  }
 ],
 "metadata": {
  "kernelspec": {
   "display_name": "main",
   "language": "python",
   "name": "python3"
  },
  "language_info": {
   "codemirror_mode": {
    "name": "ipython",
    "version": 3
   },
   "file_extension": ".py",
   "mimetype": "text/x-python",
   "name": "python",
   "nbconvert_exporter": "python",
   "pygments_lexer": "ipython3",
   "version": "3.11.14"
  }
 },
 "nbformat": 4,
 "nbformat_minor": 5
}
